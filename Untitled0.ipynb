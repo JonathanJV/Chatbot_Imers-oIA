{
  "nbformat": 4,
  "nbformat_minor": 0,
  "metadata": {
    "colab": {
      "provenance": [],
      "authorship_tag": "ABX9TyPLByIZSuTnFqR+fxermuZA",
      "include_colab_link": true
    },
    "kernelspec": {
      "name": "python3",
      "display_name": "Python 3"
    },
    "language_info": {
      "name": "python"
    }
  },
  "cells": [
    {
      "cell_type": "markdown",
      "metadata": {
        "id": "view-in-github",
        "colab_type": "text"
      },
      "source": [
        "<a href=\"https://colab.research.google.com/github/JonathanJV/Chatbot_Imers-oIA/blob/main/Untitled0.ipynb\" target=\"_parent\"><img src=\"https://colab.research.google.com/assets/colab-badge.svg\" alt=\"Open In Colab\"/></a>"
      ]
    },
    {
      "cell_type": "code",
      "execution_count": 1,
      "metadata": {
        "id": "3NbRBENhx_gC"
      },
      "outputs": [],
      "source": [
        "!pip install -q -U google-generativeai"
      ]
    },
    {
      "cell_type": "code",
      "source": [
        "import google.generativeai as genai\n",
        "from google.colab import userdata\n",
        "api_key = userdata.get('SECRET_KEY')"
      ],
      "metadata": {
        "id": "NVZJ71eIymU5"
      },
      "execution_count": 2,
      "outputs": []
    },
    {
      "cell_type": "code",
      "source": [
        "GOOGLE_API_KEY=api_key=api_key\n",
        "genai.configure(api_key=GOOGLE_API_KEY)"
      ],
      "metadata": {
        "id": "Vfft9ekxzAzd"
      },
      "execution_count": 3,
      "outputs": []
    },
    {
      "cell_type": "code",
      "source": [
        "model=genai.GenerativeModel('gemini-pro')\n"
      ],
      "metadata": {
        "id": "8bEm8tO3zzma"
      },
      "execution_count": 4,
      "outputs": []
    },
    {
      "cell_type": "code",
      "source": [
        "for m in genai.list_models():\n",
        "  if 'generateContent' in m.supported_generation_methods:\n",
        "    print(m.name)"
      ],
      "metadata": {
        "colab": {
          "base_uri": "https://localhost:8080/",
          "height": 138
        },
        "id": "DhktVkgc2cP9",
        "outputId": "df36da78-80c2-4a27-ccf8-6c4ae495208b"
      },
      "execution_count": 5,
      "outputs": [
        {
          "output_type": "stream",
          "name": "stdout",
          "text": [
            "models/gemini-1.0-pro\n",
            "models/gemini-1.0-pro-001\n",
            "models/gemini-1.0-pro-latest\n",
            "models/gemini-1.0-pro-vision-latest\n",
            "models/gemini-1.5-pro-latest\n",
            "models/gemini-pro\n",
            "models/gemini-pro-vision\n"
          ]
        }
      ]
    },
    {
      "cell_type": "code",
      "source": [
        "generation_config = {\n",
        "    \"candidate_count\": 1,\n",
        "    \"temperature\": 0.5\n",
        "}"
      ],
      "metadata": {
        "id": "S65UxsNx49nC"
      },
      "execution_count": 6,
      "outputs": []
    },
    {
      "cell_type": "code",
      "source": [
        "safety_settings={\n",
        "    \"Harassment\":\"BLOCK_NONE\",\n",
        "    \"HATE\":\"BLOCK_NONE\",\n",
        "    \"SEXUAL\":\"BLOCK_NONE\",\n",
        "}"
      ],
      "metadata": {
        "id": "z-_u5Cqm5Tv4"
      },
      "execution_count": 7,
      "outputs": []
    },
    {
      "cell_type": "code",
      "source": [
        "model=genai.GenerativeModel(model_name=\"gemini-1.0-pro\", generation_config=generation_config, safety_settings=safety_settings)"
      ],
      "metadata": {
        "id": "tuuvre8W6vcY"
      },
      "execution_count": 8,
      "outputs": []
    },
    {
      "cell_type": "code",
      "source": [
        "response= model.generate_content(\"Me dê sugestões de MBA de ciência de dados no brasil\")\n",
        "print(response.text)"
      ],
      "metadata": {
        "colab": {
          "base_uri": "https://localhost:8080/",
          "height": 332
        },
        "id": "WMBGCENV0RV1",
        "outputId": "e6855e25-748d-4071-c5b4-bab4357696e4"
      },
      "execution_count": 9,
      "outputs": [
        {
          "output_type": "stream",
          "name": "stdout",
          "text": [
            "**Universidades Públicas:**\n",
            "\n",
            "* **Universidade de São Paulo (USP)** - MBA em Ciência de Dados e Big Data\n",
            "* **Universidade Federal do Rio de Janeiro (UFRJ)** - MBA em Ciência de Dados e Inteligência Artificial\n",
            "* **Universidade Federal de Minas Gerais (UFMG)** - MBA em Ciência de Dados e Analytics\n",
            "* **Universidade Federal de Santa Catarina (UFSC)** - MBA em Ciência de Dados e Inteligência Artificial\n",
            "\n",
            "**Universidades Privadas:**\n",
            "\n",
            "* **FGV - Fundação Getulio Vargas** - MBA em Ciência de Dados e Inteligência Artificial\n",
            "* **PUC-Rio - Pontifícia Universidade Católica do Rio de Janeiro** - MBA em Ciência de Dados e Inteligência Artificial\n",
            "* **Insper** - MBA em Ciência de Dados e Inteligência Artificial\n",
            "* **UniCEUB - Centro Universitário de Brasília** - MBA em Ciência de Dados e Analytics\n",
            "* **Unip - Universidade Paulista** - MBA em Ciência de Dados e Inteligência Artificial\n",
            "* **Unifesp - Universidade Federal de São Paulo** - MBA em Ciência de Dados e Inteligência Artificial\n",
            "* **Uninove - Universidade Nove de Julho** - MBA em Ciência de Dados e Inteligência Artificial\n",
            "* **UniRitter - Universidade Ritter dos Reis** - MBA em Ciência de Dados e Inteligência Artificial\n"
          ]
        }
      ]
    },
    {
      "cell_type": "code",
      "source": [
        "chat=model.start_chat(history=[])"
      ],
      "metadata": {
        "id": "yvlw6ZIH46IT"
      },
      "execution_count": 10,
      "outputs": []
    },
    {
      "cell_type": "code",
      "source": [
        "prompt=input(\"Esperando prompt: \")\n",
        "while prompt!=\"fim\":\n",
        "  response =chat.send_message(prompt)\n",
        "  print(\"resposta: \", response.text, \"\\n\")\n",
        "  prompt=input(\"Esperando prompt: \")"
      ],
      "metadata": {
        "colab": {
          "base_uri": "https://localhost:8080/",
          "height": 1000
        },
        "id": "2egkGkH5_WBi",
        "outputId": "cb513578-d989-4564-86fc-4fb79df18c7c"
      },
      "execution_count": 11,
      "outputs": [
        {
          "name": "stdout",
          "output_type": "stream",
          "text": [
            "Esperando prompt: Qual o melhor MBA de data science do Brasil?\n",
            "resposta:  **Melhores MBAs em Data Science no Brasil**\n",
            "\n",
            "De acordo com o ranking do Guia Exame 2023:\n",
            "\n",
            "**1. FGV - Fundação Getulio Vargas (EAESP)**\n",
            "* Localização: São Paulo\n",
            "* Duração: 18 meses\n",
            "* Destaques: Foco em inteligência artificial e aprendizado de máquina, professores renomados e forte rede de ex-alunos.\n",
            "\n",
            "**2. Insper Instituto de Ensino e Pesquisa**\n",
            "* Localização: São Paulo\n",
            "* Duração: 18 meses\n",
            "* Destaques: Ênfase em análise de dados, visualização e tomada de decisão baseada em dados, parcerias com empresas de tecnologia.\n",
            "\n",
            "**3. USP - Universidade de São Paulo (FEAUSP)**\n",
            "* Localização: São Paulo\n",
            "* Duração: 18 meses\n",
            "* Destaques: Programa interdisciplinar com foco em estatística, ciência da computação e negócios, corpo docente altamente qualificado.\n",
            "\n",
            "**4. PUC-Rio - Pontifícia Universidade Católica do Rio de Janeiro (Coppead)**\n",
            "* Localização: Rio de Janeiro\n",
            "* Duração: 18 meses\n",
            "* Destaques: Abordagem prática com projetos de consultoria, professores com experiência em data science e indústria.\n",
            "\n",
            "**5. UFMG - Universidade Federal de Minas Gerais (CEPEAD)**\n",
            "* Localização: Belo Horizonte\n",
            "* Duração: 18 meses\n",
            "* Destaques: Foco em análise de dados, mineração de dados e aprendizado de máquina, professores com pesquisa ativa na área.\n",
            "\n",
            "**6. FGV - Fundação Getulio Vargas (EBAPE)**\n",
            "* Localização: Rio de Janeiro\n",
            "* Duração: 18 meses\n",
            "* Destaques: Ênfase em gestão de dados, análise preditiva e tomada de decisão baseada em evidências.\n",
            "\n",
            "**7. ESPM - Escola Superior de Propaganda e Marketing**\n",
            "* Localização: São Paulo\n",
            "* Duração: 18 meses\n",
            "* Destaques: Foco em marketing de dados, análise de clientes e estratégias de comunicação baseadas em dados.\n",
            "\n",
            "**8. UFPR - Universidade Federal do Paraná (CEFET-PR)**\n",
            "* Localização: Curitiba\n",
            "* Duração: 18 meses\n",
            "* Destaques: Abordagem multidisciplinar com foco em análise de dados, computação em nuvem e inteligência artificial.\n",
            "\n",
            "**9. FGV - Fundação Getulio Vargas (EAESP)**\n",
            "* Localização: Brasília\n",
            "* Duração: 18 meses\n",
            "* Destaques: Ênfase em análise de políticas públicas, gestão de dados do setor público e tomada de decisão baseada em evidências.\n",
            "\n",
            "**10. UFRGS - Universidade Federal do Rio Grande do Sul (EA)**\n",
            "* Localização: Porto Alegre\n",
            "* Duração: 18 meses\n",
            "* Destaques: Foco em análise de dados, aprendizado de máquina e visualização de dados, corpo docente com ampla experiência em pesquisa. \n",
            "\n",
            "Esperando prompt: fim\n"
          ]
        }
      ]
    },
    {
      "cell_type": "code",
      "source": [
        "# Melhorando a visualização\n",
        "# Código disponível em https://ai.google.dev/tutorials/python_quickstart#import_packages\n",
        "\n",
        "import textwrap\n",
        "from IPython.display import display\n",
        "\n",
        "From IPython.display import Markdown\n",
        "\n",
        "def to_markdown(text):\n",
        "    \"\"\"\n",
        "    Converte texto em Markdown.\n",
        "\n",
        "    Args:\n",
        "        text (str): Texto a ser convertido.\n",
        "\n",
        "    Returns:\n",
        "        str: Texto convertido em Markdown.\n",
        "    \"\"\"\n",
        "    text = text.replace('.', '.\\n')\n",
        "    return Markdown(textwrap.indent(text, 4, predicate=lambda x: True))\n",
        "\n",
        "# Imprimindo o histórico\n",
        "for message in chat.history:\n",
        "    display(to_markdown(f\"**({message.role})**: ({message.parts[0].text})\"))\n",
        "    print('-----')\n"
      ],
      "metadata": {
        "colab": {
          "base_uri": "https://localhost:8080/",
          "height": 106
        },
        "id": "WSGTrCRkCIW_",
        "outputId": "e7c33d10-6599-4027-b2af-fea830e77ed0"
      },
      "execution_count": 12,
      "outputs": [
        {
          "output_type": "error",
          "ename": "SyntaxError",
          "evalue": "invalid syntax (<ipython-input-12-1a921956bd3b>, line 7)",
          "traceback": [
            "\u001b[0;36m  File \u001b[0;32m\"<ipython-input-12-1a921956bd3b>\"\u001b[0;36m, line \u001b[0;32m7\u001b[0m\n\u001b[0;31m    From IPython.display import Markdown\u001b[0m\n\u001b[0m         ^\u001b[0m\n\u001b[0;31mSyntaxError\u001b[0m\u001b[0;31m:\u001b[0m invalid syntax\n"
          ]
        }
      ]
    }
  ]
}